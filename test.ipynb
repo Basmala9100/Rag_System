{
 "cells": [
  {
   "cell_type": "code",
   "execution_count": 2,
   "id": "b2209715",
   "metadata": {},
   "outputs": [],
   "source": [
    "import aiohttp"
   ]
  },
  {
   "cell_type": "code",
   "execution_count": 6,
   "id": "94c7f2ad",
   "metadata": {},
   "outputs": [
    {
     "name": "stdout",
     "output_type": "stream",
     "text": [
      "{'question': 'What is the feedback about python course?', 'answer': 'Based on the feedback provided, here\\'s a summary of what students are saying about the Python course:\\n\\n*   **Positive Aspects:**\\n    *   The course is described as **\"good\"**.\\n    *   Students appreciate that the instructor is **\"good\"**.\\n    *   The course is considered **\"helpful\"**.\\n\\n*   **Areas for Improvement/Further Information Needed:**\\n    *   It\\'s difficult to provide more specific details about the Python course content or teaching style without more detailed feedback. The current reviews are quite general.\\n\\n**In essence, the current feedback indicates a generally positive sentiment towards the Python course, highlighting its helpfulness and the instructor\\'s quality.**', 'documents': [], 'metadatas': []}\n"
     ]
    }
   ],
   "source": [
    "async with aiohttp.ClientSession() as session:\n",
    "    response = await session.post('http://127.0.0.1:8000/query', \n",
    "                                  json={\"question\": \"What is the feedback about python course?\"},\n",
    "                                  headers={\"Content-Type\": \"application/json\"})\n",
    "    print(await response.json())"
   ]
  },
  {
   "cell_type": "code",
   "execution_count": null,
   "id": "ca7f9854",
   "metadata": {},
   "outputs": [],
   "source": []
  }
 ],
 "metadata": {
  "kernelspec": {
   "display_name": "base",
   "language": "python",
   "name": "python3"
  },
  "language_info": {
   "codemirror_mode": {
    "name": "ipython",
    "version": 3
   },
   "file_extension": ".py",
   "mimetype": "text/x-python",
   "name": "python",
   "nbconvert_exporter": "python",
   "pygments_lexer": "ipython3",
   "version": "3.12.7"
  }
 },
 "nbformat": 4,
 "nbformat_minor": 5
}
